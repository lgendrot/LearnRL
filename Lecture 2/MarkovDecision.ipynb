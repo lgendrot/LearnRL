{
 "cells": [
  {
   "cell_type": "code",
   "execution_count": 2,
   "metadata": {
    "collapsed": true
   },
   "outputs": [],
   "source": [
    "from numpy.random import choice\n",
    "import numpy as np"
   ]
  },
  {
   "cell_type": "code",
   "execution_count": 17,
   "metadata": {
    "collapsed": false
   },
   "outputs": [
    {
     "name": "stdout",
     "output_type": "stream",
     "text": [
      "C1 -1.3076923076923084\n",
      "C2 2.6923076923076925\n",
      "C3 7.384615384615385\n",
      "FB -2.3076923076923075\n",
      "Sleep 0.0\n"
     ]
    }
   ],
   "source": [
    "\n",
    "state_names = [\"C1\", \"C2\", \"C3\", \"FB\", \"Sleep\"]\n",
    "\n",
    "# Probabilities changed to reflect uniform random policy\n",
    "\n",
    "# Notice Class 3 probabilities reflect possible pub choice:\n",
    "# Row 3 Column 1:\n",
    "# (.5 * .2) = .1 = probability of picking pub action (.5) AND\n",
    "# probability of being sent to class 1 (.2) as a result\n",
    "\n",
    "# Together they mean a .1 probability \n",
    "# of ending up back in C1 from C3\n",
    "\n",
    "p_matrix = [[0, .5, 0, .5, 0],\n",
    "            [0, 0, .5, 0, .5],\n",
    "            [.1, .2, .2, 0, .5],\n",
    "            [.5, 0, 0, .5, 0],\n",
    "            [0, 0, 0, 0, 0]]\n",
    "\n",
    "# Action rewards are weighted and summed by probability of occurring\n",
    "# I.E: 5.5 = (.5 * 10) + (.5 * 1)\n",
    "_rewards = [-1.5, -1, 5.5, -.5, 0]\n",
    "\n",
    "\n",
    "gamma = 1\n",
    "R = np.array(_rewards)\n",
    "P = np.matrix(p_matrix)\n",
    "I = np.identity(len(p_matrix))\n",
    "\n",
    "solution = np.dot(np.linalg.inv((I-gamma*P)), R)\n",
    "solution = solution.tolist()[0]\n",
    "for state in range(len(state_names)):\n",
    "    print(state_names[state], solution[state])\n",
    "    "
   ]
  },
  {
   "cell_type": "code",
   "execution_count": 29,
   "metadata": {
    "collapsed": false,
    "scrolled": true
   },
   "outputs": [
    {
     "data": {
      "text/plain": [
       "2.0"
      ]
     },
     "execution_count": 29,
     "metadata": {},
     "output_type": "execute_result"
    }
   ],
   "source": []
  },
  {
   "cell_type": "code",
   "execution_count": null,
   "metadata": {
    "collapsed": false
   },
   "outputs": [],
   "source": []
  },
  {
   "cell_type": "code",
   "execution_count": null,
   "metadata": {
    "collapsed": true
   },
   "outputs": [],
   "source": []
  }
 ],
 "metadata": {
  "anaconda-cloud": {},
  "kernelspec": {
   "display_name": "Python [conda root]",
   "language": "python",
   "name": "conda-root-py"
  },
  "language_info": {
   "codemirror_mode": {
    "name": "ipython",
    "version": 3
   },
   "file_extension": ".py",
   "mimetype": "text/x-python",
   "name": "python",
   "nbconvert_exporter": "python",
   "pygments_lexer": "ipython3",
   "version": "3.5.2"
  }
 },
 "nbformat": 4,
 "nbformat_minor": 1
}
