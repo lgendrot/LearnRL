{
 "cells": [
  {
   "cell_type": "markdown",
   "metadata": {},
   "source": [
    "# Markov Chains\n",
    "\n",
    "\n",
    "\n",
    "The following Markov chain implementation is based on the Student MDP used in Lecture 2 of David Silver's lecture series.\n",
    "\n",
    "\n",
    "<img src=\"/files/images/markov_chain.png\", width=500px>\n",
    "\n",
    "\n",
    "Notice that from any state we can see where we might transition to next. That is, notice that each state exhibits the **Markov property**: If we are currently at the Pub, we know which states we can go to next, and with what probability. Knowing that we were just in \"Class 3\" in the previous step doesn't tell us anything new about where we'll transition to next.\n",
    "\n",
    "The associated **State Transition Matrix** for this Markov chain is merely copied from the states (Circles) and transition probabilities (Arrows) shown in the image:"
   ]
  },
  {
   "cell_type": "code",
   "execution_count": null,
   "metadata": {
    "collapsed": true
   },
   "outputs": [],
   "source": [
    "state_names = [\"C1\", \"C2\", \"C3\", \"Pass\", \"Pub\", \"FB\", \"Sleep\"]\n",
    "\n",
    "\n",
    "# p_matrix[0][5] = Transition probability from \"C1\" to \"FB\"\n",
    "# p_matrix[4][1] = Transition from \"Pub\" to \"C2\"\n",
    "# etc.\n",
    "p_matrix = [[0, .5, 0, 0, 0, .5, 0],\n",
    "            [0, 0, .8, 0, 0, 0, .2],\n",
    "            [0, 0, 0, .6, .4, 0, 0],\n",
    "            [0, 0, 0, 0, 0, 0, 1],\n",
    "            [.2, .4, .4, 0, 0, 0, 0],\n",
    "            [.1, 0, 0, 0, 0, .9, 0],\n",
    "            [0, 0, 0, 0, 0, 0, 1]]"
   ]
  },
  {
   "cell_type": "markdown",
   "metadata": {},
   "source": [
    "If the state transition matrix is known, a trajectory can then be generated from the Markov chain: starting from any location in the chain a random path can be sampled using the transition probabilities to determine the next step. \n",
    "\n",
    "Once the agent reaches \"Sleep\" it will stop forever. This type of state is known as an absorbing state and can be thought of as a state with a self-transition probability of 1 (just like the Facebook state has a self-transition probability of 90%).\n",
    "\n",
    "The existence of an absorbing state, and the fact that all other states have at least 1 path to it means that this Markov chain is actually an Absorbing Markov chain. Which for our purposes is just a fancy way of saying that any sample we take from the chain is guaranteed to end eventually. No infinite loops here."
   ]
  },
  {
   "cell_type": "code",
   "execution_count": 33,
   "metadata": {
    "collapsed": false
   },
   "outputs": [],
   "source": [
    "from numpy.random import choice\n",
    "\n",
    "class MarkovChain:\n",
    "    def __init__(self, p_matrix, state_names, terminal_index=6):\n",
    "        self.p_matrix = p_matrix\n",
    "        self.state_names = state_names\n",
    "        self.terminal_index = terminal_index\n",
    "        \n",
    "        row_lengths = [len(row) for row in p_matrix]\n",
    "        assert (len(set(row_lengths)) <= 1), \"p_matrix rows must have equal lengths!\"\n",
    "        assert len(p_matrix[0]) == len(p_matrix), \"p_matrix must be square!\"\n",
    "    \n",
    "    # Generates a random path through the chain\n",
    "    def sample(self, start_state):\n",
    "        path = []\n",
    "        \n",
    "        # Handle int or string as input state\n",
    "        if isinstance(start_state, str):\n",
    "            state_indx = self.state_names.index(start_state)\n",
    "        else:\n",
    "            state_indx = start_state\n",
    "            \n",
    "        state = state_indx\n",
    "        \n",
    "        while state != self.terminal_index:\n",
    "            path.append(state)\n",
    "            transition_p = self.p_matrix[state]\n",
    "            \n",
    "            # numpy.random.choice accepts choices (states 0 through len(p_matrix)) and\n",
    "            # equally sized list of probabilities for those choices\n",
    "            next_state = choice(range(len(self.p_matrix)), p=transition_p)\n",
    "            state = next_state\n",
    "        \n",
    "        path.append(self.terminal_index)\n",
    "        \n",
    "        \n",
    "        if isinstance(start_state, str):\n",
    "            return self.pretty(path)\n",
    "        else:\n",
    "            return path\n",
    "    \n",
    "    def pretty(self, path):\n",
    "        return [self.state_names[i] for i in path]\n",
    "    \n",
    "    # Uses the state_names to generate pretty paths instead of raw state integers"
   ]
  },
  {
   "cell_type": "markdown",
   "metadata": {
    "collapsed": false
   },
   "source": [
    "With our basic markov chain implementation we can sample trajectories at random, given a starting state."
   ]
  },
  {
   "cell_type": "code",
   "execution_count": 34,
   "metadata": {
    "collapsed": false
   },
   "outputs": [
    {
     "name": "stdout",
     "output_type": "stream",
     "text": [
      "['C2', 'C3', 'Pass', 'Sleep']\n",
      "\n",
      " --- \n",
      "\n",
      "['C2', 'C3', 'Pass', 'Sleep']\n",
      "\n",
      " --- \n",
      "\n",
      "['C2', 'C3', 'Pass', 'Sleep']\n",
      "\n",
      " --- \n",
      "\n",
      "['C2', 'Sleep']\n",
      "\n",
      " --- \n",
      "\n",
      "['C2', 'C3', 'Pass', 'Sleep']\n",
      "\n",
      " --- \n",
      "\n",
      "['C2', 'C3', 'Pub', 'C2', 'C3', 'Pass', 'Sleep']\n",
      "\n",
      " --- \n",
      "\n",
      "['C2', 'C3', 'Pass', 'Sleep']\n",
      "\n",
      " --- \n",
      "\n",
      "['C2', 'C3', 'Pub', 'C2', 'Sleep']\n",
      "\n",
      " --- \n",
      "\n",
      "['C2', 'C3', 'Pass', 'Sleep']\n",
      "\n",
      " --- \n",
      "\n",
      "['C2', 'Sleep']\n",
      "\n",
      " --- \n",
      "\n"
     ]
    }
   ],
   "source": [
    "chain = MarkovChain(p_matrix, state_names)\n",
    "for i in range(10):\n",
    "    print(chain.sample(\"C2\"))\n",
    "    print(\"\\n --- \\n\")"
   ]
  },
  {
   "cell_type": "code",
   "execution_count": null,
   "metadata": {
    "collapsed": false
   },
   "outputs": [],
   "source": []
  },
  {
   "cell_type": "code",
   "execution_count": null,
   "metadata": {
    "collapsed": true
   },
   "outputs": [],
   "source": []
  }
 ],
 "metadata": {
  "anaconda-cloud": {},
  "kernelspec": {
   "display_name": "Python [conda root]",
   "language": "python",
   "name": "conda-root-py"
  },
  "language_info": {
   "codemirror_mode": {
    "name": "ipython",
    "version": 3
   },
   "file_extension": ".py",
   "mimetype": "text/x-python",
   "name": "python",
   "nbconvert_exporter": "python",
   "pygments_lexer": "ipython3",
   "version": "3.5.2"
  }
 },
 "nbformat": 4,
 "nbformat_minor": 1
}
