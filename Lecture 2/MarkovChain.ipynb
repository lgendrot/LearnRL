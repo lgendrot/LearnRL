{
 "cells": [
  {
   "cell_type": "code",
   "execution_count": 213,
   "metadata": {
    "collapsed": true
   },
   "outputs": [],
   "source": [
    "from numpy.random import choice"
   ]
  },
  {
   "cell_type": "code",
   "execution_count": 228,
   "metadata": {
    "collapsed": false
   },
   "outputs": [],
   "source": [
    "## Defined by the student markov chain example given in lecture 2\n",
    "\n",
    "state_names = [\"C1\", \"C2\", \"C3\", \"Pass\", \"Pub\", \"FB\", \"Sleep\"]\n",
    "\n",
    "p_matrix = [[0, .5, 0, 0, 0, .5, 0],\n",
    "            [0, 0, .8, 0, 0, 0, .2],\n",
    "            [0, 0, 0, .6, .4, 0, 0],\n",
    "            [0, 0, 0, 0, 0, 0, 1],\n",
    "            [.2, .4, .4, 0, 0, 0, 0],\n",
    "            [.1, 0, 0, 0, 0, .9, 0],\n",
    "            [0, 0, 0, 0, 0, 0, 1]]\n",
    "\n",
    "# Just cus\n",
    "class ProbabilityMatrixException(Exception):\n",
    "    def __init__(self, message):\n",
    "        self.message = message\n",
    "    \n",
    "class MarkovChain:\n",
    "    def __init__(self, p_matrix, state_names, start_state, terminal_state):\n",
    "        self.p_matrix = p_matrix\n",
    "        self.state_names = state_names\n",
    "        self.start_state = start_state\n",
    "        self.terminal_state = terminal_state\n",
    "        \n",
    "        row_lengths = [len(row) for row in p_matrix]\n",
    "        if not (len(set(row_lengths)) <= 1):\n",
    "            raise ProbabilityMatrixException(\"p_matrix rows must have equal lengths!\")\n",
    "        \n",
    "        if len(p_matrix[0]) != len(p_matrix):\n",
    "            raise ProbabilityMatrixException(\"p_matrix must be square!\")\n",
    "    \n",
    "    # Generates a random path through the chain\n",
    "    def raw_path(self):\n",
    "        path = []\n",
    "        state = self.start_state\n",
    "        \n",
    "        while state != self.terminal_state:\n",
    "            path.append(state)\n",
    "            transition_p = self.p_matrix[state]\n",
    "            \n",
    "            # numpy.random.choice accepts choices (states 0 through len(p_matrix)) and\n",
    "            # equally sized probabilities for those choices\n",
    "            next_state = choice(range(len(self.p_matrix)), p=transition_p)\n",
    "            state = next_state\n",
    "        \n",
    "        path.append(self.terminal_state)\n",
    "        \n",
    "        return path\n",
    "    \n",
    "    # Uses the state_names to generate pretty paths instead of raw state integers\n",
    "    def named_path(self):\n",
    "        path = self.raw_path()\n",
    "        return [self.state_names[i] for i in path]\n",
    "        \n",
    "            "
   ]
  },
  {
   "cell_type": "code",
   "execution_count": 229,
   "metadata": {
    "collapsed": false
   },
   "outputs": [],
   "source": [
    "chain = MarkovChain(p_matrix, state_names, 0, 6)"
   ]
  },
  {
   "cell_type": "code",
   "execution_count": 230,
   "metadata": {
    "collapsed": false
   },
   "outputs": [
    {
     "name": "stdout",
     "output_type": "stream",
     "text": [
      "['C1', 'C2', 'C3', 'Pub', 'C1', 'C2', 'Sleep']\n",
      "\n",
      " --- \n",
      "\n",
      "['C1', 'C2', 'C3', 'Pass', 'Sleep']\n",
      "\n",
      " --- \n",
      "\n",
      "['C1', 'FB', 'FB', 'FB', 'FB', 'FB', 'FB', 'FB', 'FB', 'FB', 'FB', 'FB', 'FB', 'FB', 'FB', 'FB', 'FB', 'FB', 'C1', 'C2', 'C3', 'Pass', 'Sleep']\n",
      "\n",
      " --- \n",
      "\n",
      "['C1', 'C2', 'C3', 'Pass', 'Sleep']\n",
      "\n",
      " --- \n",
      "\n",
      "['C1', 'FB', 'FB', 'FB', 'C1', 'C2', 'C3', 'Pub', 'C3', 'Pass', 'Sleep']\n",
      "\n",
      " --- \n",
      "\n",
      "['C1', 'C2', 'C3', 'Pub', 'C3', 'Pass', 'Sleep']\n",
      "\n",
      " --- \n",
      "\n",
      "['C1', 'C2', 'C3', 'Pub', 'C2', 'C3', 'Pass', 'Sleep']\n",
      "\n",
      " --- \n",
      "\n",
      "['C1', 'C2', 'C3', 'Pub', 'C2', 'C3', 'Pub', 'C3', 'Pass', 'Sleep']\n",
      "\n",
      " --- \n",
      "\n",
      "['C1', 'FB', 'C1', 'FB', 'C1', 'FB', 'FB', 'FB', 'C1', 'FB', 'C1', 'C2', 'C3', 'Pub', 'C1', 'C2', 'C3', 'Pass', 'Sleep']\n",
      "\n",
      " --- \n",
      "\n",
      "['C1', 'FB', 'FB', 'FB', 'FB', 'FB', 'FB', 'FB', 'FB', 'FB', 'FB', 'C1', 'FB', 'FB', 'FB', 'FB', 'FB', 'FB', 'FB', 'FB', 'FB', 'FB', 'C1', 'FB', 'C1', 'C2', 'C3', 'Pub', 'C2', 'C3', 'Pass', 'Sleep']\n",
      "\n",
      " --- \n",
      "\n"
     ]
    }
   ],
   "source": [
    "for i in range(10):\n",
    "    print(chain.named_path())\n",
    "    print(\"\\n --- \\n\")"
   ]
  },
  {
   "cell_type": "code",
   "execution_count": null,
   "metadata": {
    "collapsed": true
   },
   "outputs": [],
   "source": []
  }
 ],
 "metadata": {
  "anaconda-cloud": {},
  "kernelspec": {
   "display_name": "Python [conda root]",
   "language": "python",
   "name": "conda-root-py"
  },
  "language_info": {
   "codemirror_mode": {
    "name": "ipython",
    "version": 3
   },
   "file_extension": ".py",
   "mimetype": "text/x-python",
   "name": "python",
   "nbconvert_exporter": "python",
   "pygments_lexer": "ipython3",
   "version": "3.5.2"
  }
 },
 "nbformat": 4,
 "nbformat_minor": 1
}
