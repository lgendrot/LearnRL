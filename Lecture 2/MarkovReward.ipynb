{
 "cells": [
  {
   "cell_type": "code",
   "execution_count": 66,
   "metadata": {
    "collapsed": true
   },
   "outputs": [],
   "source": [
    "from numpy.random import choice\n",
    "import numpy as np"
   ]
  },
  {
   "cell_type": "code",
   "execution_count": 220,
   "metadata": {
    "collapsed": false
   },
   "outputs": [],
   "source": [
    "## Defined by the student markov chain example given in lecture 2\n",
    "\n",
    "state_names = [\"C1\", \"C2\", \"C3\", \"Pass\", \"Pub\", \"FB\", \"Sleep\"]\n",
    "\n",
    "p_matrix = [[0, .5, 0, 0, 0, .5, 0],\n",
    "            [0, 0, .8, 0, 0, 0, .2],\n",
    "            [0, 0, 0, .6, .4, 0, 0],\n",
    "            [0, 0, 0, 0, 0, 0, 1],\n",
    "            [.2, .4, .4, 0, 0, 0, 0],\n",
    "            [.1, 0, 0, 0, 0, .9, 0],\n",
    "            [0, 0, 0, 0, 0, 0, 0]]\n",
    "\n",
    "_rewards = [-2, -2, -2, 10, 1, -1, 0]\n",
    "\n",
    "# Just cus\n",
    "class ProbabilityMatrixException(Exception):\n",
    "    def __init__(self, message):\n",
    "        self.message = message\n",
    "    \n",
    "class RewardChain:\n",
    "    def __init__(self, p_matrix, rewards, state_names, terminal_state):\n",
    "        self.p_matrix = p_matrix\n",
    "        self.state_names = state_names\n",
    "        self.terminal_state = terminal_state\n",
    "        self.rewards = rewards\n",
    "        \n",
    "        row_lengths = [len(row) for row in p_matrix]\n",
    "        if not (len(set(row_lengths)) <= 1):\n",
    "            raise ProbabilityMatrixException(\"p_matrix rows must have equal lengths!\")\n",
    "        \n",
    "        if len(p_matrix[0]) != len(p_matrix):\n",
    "            raise ProbabilityMatrixException(\"p_matrix must be square!\")\n",
    "            \n",
    "        if not (len(self.rewards) == len(p_matrix)):\n",
    "            raise Exception(\"rewards must be same length as p_matrix\")\n",
    "    \n",
    "    # Generates a random path through the chain\n",
    "    def sample(self, start_state):\n",
    "        path = []\n",
    "        if isinstance(start_state, str):\n",
    "            start_state = self.state_names.index(start_state)\n",
    "            \n",
    "        state = start_state\n",
    "        \n",
    "        while state != self.terminal_state:\n",
    "            path.append(state)\n",
    "            transition_p = self.p_matrix[state]\n",
    "            \n",
    "            # numpy.random.choice accepts choices (states 0 through len(p_matrix)) and\n",
    "            # equally sized list of probabilities for those choices\n",
    "            next_state = choice(range(len(self.p_matrix)), p=transition_p)\n",
    "            state = next_state\n",
    "        \n",
    "        path.append(self.terminal_state)\n",
    "        \n",
    "        return path\n",
    "    \n",
    "    \n",
    "    def pretty(self, path):\n",
    "        return [self.state_names[i] for i in path]\n",
    "\n",
    "    # Uses the state_names to generate pretty paths instead of raw state integers\n",
    "    def sample_pretty(self, start_state):\n",
    "        path = self.raw_path(start_state)\n",
    "        return self.pretty(path)\n",
    "    \n",
    "    \n",
    "    def G(self, raw_path, discount_factor):\n",
    "        counter = 0\n",
    "        reward = 0\n",
    "        for state in raw_path:\n",
    "            r = self.rewards[state] * (discount_factor**counter)\n",
    "            reward += (self.rewards[state] * (discount_factor**counter))\n",
    "            counter += 1\n",
    "        return reward\n",
    "        \n",
    "        \n",
    "        \n",
    "        \n",
    "            "
   ]
  },
  {
   "cell_type": "code",
   "execution_count": 221,
   "metadata": {
    "collapsed": false
   },
   "outputs": [],
   "source": [
    "chain = RewardChain(p_matrix, _rewards, state_names, 6)"
   ]
  },
  {
   "cell_type": "code",
   "execution_count": 222,
   "metadata": {
    "collapsed": false
   },
   "outputs": [
    {
     "data": {
      "text/plain": [
       "['C1', 'C2', 'C3', 'Pass', 'Sleep']"
      ]
     },
     "execution_count": 222,
     "metadata": {},
     "output_type": "execute_result"
    }
   ],
   "source": [
    "# path = chain.sample(0)\n",
    "path = [0, 1, 2, 3, 6]\n",
    "chain.pretty(path)"
   ]
  },
  {
   "cell_type": "code",
   "execution_count": 211,
   "metadata": {
    "collapsed": false
   },
   "outputs": [
    {
     "name": "stdout",
     "output_type": "stream",
     "text": [
      "-22.82\n",
      "CPU times: user 15.1 s, sys: 62.5 ms, total: 15.2 s\n",
      "Wall time: 15.2 s\n"
     ]
    }
   ],
   "source": [
    "%%time\n",
    "rewards = []\n",
    "for i in range(0, 10000):\n",
    "    path = chain.sample(5)\n",
    "    reward = chain.G(path, 1)\n",
    "    rewards.append(reward)\n",
    "\n",
    "print('{0:.2f}'.format(np.mean(rewards)))\n",
    "    "
   ]
  },
  {
   "cell_type": "code",
   "execution_count": 242,
   "metadata": {
    "collapsed": false
   },
   "outputs": [
    {
     "name": "stdout",
     "output_type": "stream",
     "text": [
      "C1 -12.543209876543214\n",
      "C2 1.4567901234567908\n",
      "C3 4.320987654320986\n",
      "Pass 10.0\n",
      "Pub 0.8024691358024683\n",
      "FB -22.543209876543223\n",
      "Sleep 0.0\n"
     ]
    }
   ],
   "source": [
    "gamma = 1\n",
    "R = np.array(_rewards)\n",
    "P = np.matrix(p_matrix)\n",
    "I = np.identity(len(p_matrix))\n",
    "\n",
    "solution = np.dot(np.linalg.inv((I-gamma*P)), R)\n",
    "solution = solution.tolist()[0]\n",
    "for state in range(len(state_names)):\n",
    "    print(state_names[state], solution[state])\n",
    "    "
   ]
  },
  {
   "cell_type": "code",
   "execution_count": null,
   "metadata": {
    "collapsed": false,
    "scrolled": true
   },
   "outputs": [],
   "source": []
  },
  {
   "cell_type": "code",
   "execution_count": 231,
   "metadata": {
    "collapsed": false
   },
   "outputs": [
    {
     "data": {
      "text/plain": [
       "matrix([[-12.54320988,   1.45679012,   4.32098765,  10.        ,\n",
       "           0.80246914, -22.54320988,   0.        ]])"
      ]
     },
     "execution_count": 231,
     "metadata": {},
     "output_type": "execute_result"
    }
   ],
   "source": []
  },
  {
   "cell_type": "code",
   "execution_count": null,
   "metadata": {
    "collapsed": true
   },
   "outputs": [],
   "source": []
  }
 ],
 "metadata": {
  "anaconda-cloud": {},
  "kernelspec": {
   "display_name": "Python [conda root]",
   "language": "python",
   "name": "conda-root-py"
  },
  "language_info": {
   "codemirror_mode": {
    "name": "ipython",
    "version": 3
   },
   "file_extension": ".py",
   "mimetype": "text/x-python",
   "name": "python",
   "nbconvert_exporter": "python",
   "pygments_lexer": "ipython3",
   "version": "3.5.2"
  }
 },
 "nbformat": 4,
 "nbformat_minor": 1
}
